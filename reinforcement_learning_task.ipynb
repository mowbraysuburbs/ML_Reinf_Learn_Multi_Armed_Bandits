{
 "cells": [
  {
   "cell_type": "markdown",
   "metadata": {},
   "source": [
    "## Reinforcement Learning Task\n",
    "\n",
    "For this task you will be required to solve a classic reinforcement learning problem: the [Multi-Armed Bandit problem](https://en.wikipedia.org/wiki/Multi-armed_bandit). \n",
    "\n",
    "In order to understand the Multi-Armed Bandit problem, imagine that you are in a casio facing multiple slot machines (let's say 10) in a row. Each of these slot machines allow you to play for free and has a maximum payout of 10 dollars. This means that each slot machine is guaranteed to give you a reward between 0 and 10 dollars. Each slot machine has a different average payout, and you have to figure out which one gives the most average reward so that you can maximise your reward in the shortest time possible. \n",
    "\n",
    "One way to do this would be to favour machines that had a good history of rewards relative to the number of times you pulled that machine. Chances are, however, that you wouldn’t just stick to one machine. You would probably also pull each of the machines a couple of times to get an idea of how each one behaved. In other words, would use a strategy  that is a mix of:\n",
    "\n",
    "* Exploring: trying out different machines; after all, how are you supposed to know which machine is the “best” if you don’t give each one a shot?\n",
    "\n",
    "* Exploiting: given the history of each machine, maximise your profit by picking the one with the best proportion of rewards to pulls.\n",
    "\n",
    "Choosing the right mix of exploration vs. exploitation is a difficult balance to achieve. Exploit too much, and you might miss out on the real best machine. Explore too much, and you’ll waste turns on subpar machines.\n",
    "\n",
    "\n",
    "## ϵ (epsilon)-greedy algorithm\n",
    "\n",
    "Different algorithms aimed at solving the Multi-Armed Bandit problem go about balancing exploration and exploitation in different ways. A famous approach to solving this problem is the ϵ (epsilon)-greedy algorithm. In \"greedy\" experiments, the lever with highest known payout is always pulled except when a random action is taken. A randomly chosen arm is pulled a fraction ϵ of the time. The other 1-ϵ of the time, the arm with highest known payout is pulled.\n",
    "\n",
    "The epsilon greedy strategy, essentially leaves this problem up to the user to solve by having them define a constant ϵ . ϵ  is then used by the algorithm in the following way:\n",
    "\n",
    "* Choose a random machine to pull with probability = ϵ.\n",
    "* Choose the best machine to pull with probability = 1 - ϵ.\n",
    "\n",
    "The algorithm defines the \"best\" machine very simply; it is just the one with the highest experimental mean. The experimental mean is calculated as the sum of the rewards from that machine divided by the number of times that machine has been pulled.\n",
    "\n",
    "\n",
    "## Exercise\n",
    "\n",
    "Complete the code below.\n",
    "\n",
    "---\n",
    "\n",
    "\n",
    "As always, we firstly need to import the necessary libraries and modules required to implement the algorithm."
   ]
  },
  {
   "cell_type": "code",
   "execution_count": 135,
   "metadata": {},
   "outputs": [],
   "source": [
    "import numpy as np\n",
    "import random\n",
    "import matplotlib.pyplot as plt\n",
    "%matplotlib inline\n",
    "np.random.seed(5)"
   ]
  },
  {
   "cell_type": "markdown",
   "metadata": {},
   "source": [
    "For this task we will be solving the 10-armed bandit problem. We therefore create a numpy array, arms, of length n filled with random floats that can be understood as probabilities of action of that arm. We choose an epsilon value of 0.1."
   ]
  },
  {
   "cell_type": "code",
   "execution_count": 358,
   "metadata": {},
   "outputs": [
    {
     "data": {
      "text/plain": [
       "array([0.69590577, 0.58089898, 0.11775736, 0.85438027, 0.05261239,\n",
       "       0.09747499, 0.68334027, 0.03327031, 0.19575083, 0.89464735])"
      ]
     },
     "execution_count": 358,
     "metadata": {},
     "output_type": "execute_result"
    }
   ],
   "source": [
    "n = 10\n",
    "arms = np.random.rand(n)\n",
    "eps = 0.1 # probability of exploration action\n",
    "arms"
   ]
  },
  {
   "cell_type": "markdown",
   "metadata": {},
   "source": [
    "We now need to create a reward function. In this function, for each arm, you need to run a loop of 10 iterations, and generate a random float every time. If this random number is less than the probability of that arm, you'll add a 1 to the reward. After all iterations, you should have a value between 0 to 10."
   ]
  },
  {
   "cell_type": "code",
   "execution_count": 364,
   "metadata": {},
   "outputs": [
    {
     "name": "stdout",
     "output_type": "stream",
     "text": [
      "6\n"
     ]
    }
   ],
   "source": [
    "def reward(prob):\n",
    "    reward = 0\n",
    "    # Complete this functio\n",
    "    \n",
    "    for i in range(10):\n",
    "        outcome = np.random.rand(1)\n",
    "        if prob > outcome:\n",
    "            reward += 1\n",
    "        \n",
    "    return reward\n",
    "\n",
    "print(reward(arms[1]))"
   ]
  },
  {
   "cell_type": "markdown",
   "metadata": {},
   "source": [
    "We now initialise a memory array which has 1 row defaulted to random action index."
   ]
  },
  {
   "cell_type": "code",
   "execution_count": 282,
   "metadata": {},
   "outputs": [
    {
     "data": {
      "text/plain": [
       "10"
      ]
     },
     "execution_count": 282,
     "metadata": {},
     "output_type": "execute_result"
    }
   ],
   "source": [
    "av = np.array([np.random.randint(0,(n+1)), 0]).reshape(1,2) #av = action-value\n",
    "av.shape\n",
    "av[0][0]\n",
    "\n",
    "# print(reward(av[1]))"
   ]
  },
  {
   "cell_type": "markdown",
   "metadata": {},
   "source": [
    "Next, we define the bestArm function. This function is your greedy strategy of choosing the best arm so far. This function accepts a memory array that stores the history of all actions and their rewards. It is a 2 x k matrix where each row is an index reference to your arms array (1st element), and the reward received (2nd element). For example, if a row in your memory array is [2, 8], it means that action 2 was taken (the 3rd element in our arms array) and you received a reward of 8 for taking that action."
   ]
  },
  {
   "cell_type": "code",
   "execution_count": 269,
   "metadata": {},
   "outputs": [
    {
     "data": {
      "text/plain": [
       "0"
      ]
     },
     "execution_count": 269,
     "metadata": {},
     "output_type": "execute_result"
    }
   ],
   "source": [
    "a = []\n",
    "\n",
    "shape = np.array(a)\n",
    "\n",
    "# len(shape[0])\n",
    "len(a)"
   ]
  },
  {
   "cell_type": "code",
   "execution_count": 329,
   "metadata": {},
   "outputs": [],
   "source": [
    "# list = np.array([[2,8],[0,1],[8,8],[8,9],[3,9]])\n",
    "list = ([[2,8],[0,1],[1,8],[8,7],[3,9]])"
   ]
  },
  {
   "cell_type": "code",
   "execution_count": 330,
   "metadata": {},
   "outputs": [
    {
     "name": "stdout",
     "output_type": "stream",
     "text": [
      "2\n",
      "0\n",
      "1\n",
      "8\n",
      "3\n"
     ]
    }
   ],
   "source": [
    "clm = np.array(list)\n",
    "for i in range(clm.shape[0]):\n",
    "    print(clm[i][0])"
   ]
  },
  {
   "cell_type": "code",
   "execution_count": 342,
   "metadata": {},
   "outputs": [],
   "source": [
    "def bestArm(a):\n",
    "    \n",
    "    clm = np.array(a)\n",
    "    bestArm = 0 #default to 0\n",
    "    bestMean = 0\n",
    "    \n",
    "    for i in range(len(arms)):\n",
    "        plays = 0\n",
    "        result = 0\n",
    "        for j in range(clm.shape[0]):\n",
    "            if clm[j][0] == i+1:\n",
    "                plays += 1\n",
    "                result += clm[j][1]\n",
    "                \n",
    "        if plays > 0:\n",
    "            Mean = result/plays\n",
    "\n",
    "            if Mean > bestMean:\n",
    "                bestMean = Mean\n",
    "                bestArm = int(i)+1\n",
    "\n",
    "    mean.append(bestMean)\n",
    "    arm.append(bestArm)\n",
    "    a.append([bestArm, bestMean])\n",
    "    return bestArm\n"
   ]
  },
  {
   "cell_type": "code",
   "execution_count": 343,
   "metadata": {},
   "outputs": [
    {
     "name": "stdout",
     "output_type": "stream",
     "text": [
      "3\n"
     ]
    }
   ],
   "source": [
    "list = ([[2,8],[0,1],[4,8],[8,7],[3,9]])\n",
    "print(bestArm(list))"
   ]
  },
  {
   "cell_type": "markdown",
   "metadata": {},
   "source": [
    "Finally we can create the main loop for each play. Let's play it 500 times and display a matplotlib scatter plot of the mean reward against the number of times the game is played."
   ]
  },
  {
   "cell_type": "code",
   "execution_count": 367,
   "metadata": {},
   "outputs": [
    {
     "name": "stdout",
     "output_type": "stream",
     "text": [
      "10 10\n",
      "8 10\n",
      "6 10\n",
      "8 10\n",
      "1 10\n",
      "0 0\n",
      "4 10\n",
      "3 10\n",
      "2 10\n",
      "4 10\n",
      "2 10\n",
      "3 10\n",
      "9 10\n",
      "0 0\n",
      "8 10\n",
      "8 10\n",
      "1 10\n",
      "2 10\n",
      "6 10\n",
      "7 10\n",
      "7 10\n",
      "4 10\n",
      "3 10\n",
      "9 10\n",
      "7 10\n",
      "9 10\n",
      "9 10\n",
      "10 10\n",
      "8 10\n",
      "3 10\n",
      "4 10\n",
      "9 10\n",
      "1 10\n",
      "9 10\n",
      "7 10\n",
      "6 10\n",
      "0 0\n",
      "6 10\n",
      "6 10\n",
      "3 10\n",
      "0 0\n",
      "0 0\n",
      "3 10\n",
      "6 10\n",
      "4 10\n",
      "8 10\n",
      "1 10\n",
      "0 0\n",
      "6 10\n",
      "2 10\n",
      "3 10\n",
      "5 10\n",
      "4 10\n",
      "10 10\n"
     ]
    }
   ],
   "source": [
    "#a is a memory of all arms played with resp. reward\n",
    "a = []\n",
    "# array of means for each play\n",
    "mean = []\n",
    "#array of each arm played \n",
    "arm = []\n",
    "\n",
    "for i in range(500):\n",
    "# for i in range(500):   \n",
    "    \n",
    "#     print(i)\n",
    "    \n",
    "    if random.random() > eps: # exploitation action\n",
    "        \n",
    "        if len(a) > 0:\n",
    "            bestArm(a)\n",
    "        \n",
    "    else: # exploration action\n",
    "        av = np.array([np.random.randint(0,(n+1)), 0]).reshape(1,2)\n",
    "        cash = reward(av[0][0])\n",
    "        arm1 = av[0][0]\n",
    "        print()\n",
    "        a.append([arm1, cash])\n",
    "        print(arm1, cash)\n",
    "        \n",
    "    # Calculate the mean reward\n",
    "    \n",
    "    # Plot the mean reward against the number of times the game is played\n",
    "    \n",
    "    \n"
   ]
  },
  {
   "cell_type": "markdown",
   "metadata": {},
   "source": [
    "If you have implemented the algorithm correctly, you should see that your agent learns to choose the arm which gives it the maximum average reward after several iterations of gameplay. "
   ]
  },
  {
   "cell_type": "code",
   "execution_count": 360,
   "metadata": {},
   "outputs": [
    {
     "data": {
      "text/plain": [
       "[<matplotlib.lines.Line2D at 0x1c99daf2df0>]"
      ]
     },
     "execution_count": 360,
     "metadata": {},
     "output_type": "execute_result"
    },
    {
     "data": {
      "image/png": "[encoded data removed]",
      "text/plain": [
       "<Figure size 432x288 with 1 Axes>"
      ]
     },
     "metadata": {
      "needs_background": "light"
     },
     "output_type": "display_data"
    }
   ],
   "source": [
    "plt.plot(mean)"
   ]
  },
  {
   "cell_type": "code",
   "execution_count": 361,
   "metadata": {},
   "outputs": [
    {
     "data": {
      "text/plain": [
       "[<matplotlib.lines.Line2D at 0x1c99db4e310>]"
      ]
     },
     "execution_count": 361,
     "metadata": {},
     "output_type": "execute_result"
    },
    {
     "data": {
      "image/png": "[encoded data removed]",
      "text/plain": [
       "<Figure size 432x288 with 1 Axes>"
      ]
     },
     "metadata": {
      "needs_background": "light"
     },
     "output_type": "display_data"
    }
   ],
   "source": [
    "plt.plot(arm)"
   ]
  },
  {
   "cell_type": "code",
   "execution_count": null,
   "metadata": {},
   "outputs": [],
   "source": []
  }
 ],
 "metadata": {
  "kernelspec": {
   "display_name": "Python 3 (ipykernel)",
   "language": "python",
   "name": "python3"
  },
  "language_info": {
   "codemirror_mode": {
    "name": "ipython",
    "version": 3
   },
   "file_extension": ".py",
   "mimetype": "text/x-python",
   "name": "python",
   "nbconvert_exporter": "python",
   "pygments_lexer": "ipython3",
   "version": "3.9.7"
  }
 },
 "nbformat": 4,
 "nbformat_minor": 2
}
